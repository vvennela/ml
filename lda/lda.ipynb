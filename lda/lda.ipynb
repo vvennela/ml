{
 "cells": [
  {
   "cell_type": "code",
   "execution_count": 1,
   "id": "13fa2e79",
   "metadata": {},
   "outputs": [],
   "source": [
    "from sklearn.feature_extraction.text import TfidfVectorizer # term frequency inverse document frequency - create a bag of words\n",
    "from sklearn.decomposition import LatentDirichletAllocation # LDA \n",
    "\n",
    "import numpy as np\n",
    "from scipy import sparse\n",
    "import pandas as pd\n",
    "\n",
    "import random"
   ]
  },
  {
   "cell_type": "code",
   "execution_count": 2,
   "id": "98f5834b",
   "metadata": {},
   "outputs": [
    {
     "name": "stdout",
     "output_type": "stream",
     "text": [
      "1210\n"
     ]
    }
   ],
   "source": [
    "text_file = open(\"corpus.txt\", \"r\")\n",
    "data_samples = text_file.readlines()\n",
    "random.shuffle(data_samples) # ml algorithm sees the data in a random order for best results\n",
    "print(len(data_samples))"
   ]
  },
  {
   "cell_type": "code",
   "execution_count": 4,
   "id": "ed726ee0",
   "metadata": {},
   "outputs": [],
   "source": [
    "split_percentage = 90 # we want 90% of our data to be within the training list\n",
    "X_train_document, X_test_document = np.split(data_samples, [int(len(data_samples)*(split_percentage/100))])"
   ]
  },
  {
   "cell_type": "code",
   "execution_count": 5,
   "id": "f52aaa69",
   "metadata": {},
   "outputs": [
    {
     "data": {
      "text/plain": [
       "1089"
      ]
     },
     "execution_count": 5,
     "metadata": {},
     "output_type": "execute_result"
    }
   ],
   "source": [
    "len(X_train_document)"
   ]
  },
  {
   "cell_type": "code",
   "execution_count": 6,
   "id": "01c631ca",
   "metadata": {},
   "outputs": [],
   "source": [
    "tfidf_vectorizer = TfidfVectorizer(max_df = 0.95, # removes terms with document frequency higher than 95% of the documents\n",
    "                                 min_df = 100, # the number of times a term has to appear within the document to be counted in the frequency \n",
    "                                 stop_words = 'english') # removes stop words using an english list\n",
    "# better results achievable with pre-processing of the data"
   ]
  },
  {
   "cell_type": "code",
   "execution_count": 7,
   "id": "4346c9cc",
   "metadata": {},
   "outputs": [],
   "source": [
    "tfidf = tfidf_vectorizer.fit_transform(data_samples) # bag of words has been created"
   ]
  },
  {
   "cell_type": "code",
   "execution_count": 8,
   "id": "ca34650a",
   "metadata": {},
   "outputs": [
    {
     "name": "stdout",
     "output_type": "stream",
     "text": [
      "(1089, 294)\n",
      "(121, 294)\n"
     ]
    }
   ],
   "source": [
    "tfidf = tfidf.toarray()\n",
    "l, _ = tfidf.shape\n",
    "\n",
    "X_train, X_test = np.split(tfidf, [int(l*(split_percentage/100))])\n",
    "\n",
    "X_train = sparse.csr_matrix(X_train)\n",
    "X_test = sparse.csr_matrix(X_test)\n",
    "\n",
    "print(X_train.shape)\n",
    "print(X_test.shape)\n"
   ]
  },
  {
   "cell_type": "code",
   "execution_count": 9,
   "id": "cb8b52cf",
   "metadata": {},
   "outputs": [
    {
     "data": {
      "text/html": [
       "<div>\n",
       "<style scoped>\n",
       "    .dataframe tbody tr th:only-of-type {\n",
       "        vertical-align: middle;\n",
       "    }\n",
       "\n",
       "    .dataframe tbody tr th {\n",
       "        vertical-align: top;\n",
       "    }\n",
       "\n",
       "    .dataframe thead th {\n",
       "        text-align: right;\n",
       "    }\n",
       "</style>\n",
       "<table border=\"1\" class=\"dataframe\">\n",
       "  <thead>\n",
       "    <tr style=\"text-align: right;\">\n",
       "      <th></th>\n",
       "      <th>10</th>\n",
       "      <th>access</th>\n",
       "      <th>account</th>\n",
       "      <th>actions</th>\n",
       "      <th>add</th>\n",
       "      <th>adding</th>\n",
       "      <th>additional</th>\n",
       "      <th>address</th>\n",
       "      <th>algorithm</th>\n",
       "      <th>algorithms</th>\n",
       "      <th>...</th>\n",
       "      <th>versions</th>\n",
       "      <th>view</th>\n",
       "      <th>volume</th>\n",
       "      <th>volumes</th>\n",
       "      <th>want</th>\n",
       "      <th>way</th>\n",
       "      <th>web</th>\n",
       "      <th>windows</th>\n",
       "      <th>work</th>\n",
       "      <th>write</th>\n",
       "    </tr>\n",
       "  </thead>\n",
       "  <tbody>\n",
       "    <tr>\n",
       "      <th>0</th>\n",
       "      <td>0.0</td>\n",
       "      <td>0.290029</td>\n",
       "      <td>0.23287</td>\n",
       "      <td>0.000000</td>\n",
       "      <td>0.0</td>\n",
       "      <td>0.000000</td>\n",
       "      <td>0.000000</td>\n",
       "      <td>0.000000</td>\n",
       "      <td>0.000000</td>\n",
       "      <td>0.000000</td>\n",
       "      <td>...</td>\n",
       "      <td>0.0</td>\n",
       "      <td>0.000000</td>\n",
       "      <td>0.000000</td>\n",
       "      <td>0.000000</td>\n",
       "      <td>0.043385</td>\n",
       "      <td>0.000000</td>\n",
       "      <td>0.000000</td>\n",
       "      <td>0.000000</td>\n",
       "      <td>0.00000</td>\n",
       "      <td>0.000000</td>\n",
       "    </tr>\n",
       "    <tr>\n",
       "      <th>1</th>\n",
       "      <td>0.0</td>\n",
       "      <td>0.000000</td>\n",
       "      <td>0.00000</td>\n",
       "      <td>0.000000</td>\n",
       "      <td>0.0</td>\n",
       "      <td>0.000000</td>\n",
       "      <td>0.000000</td>\n",
       "      <td>0.000000</td>\n",
       "      <td>0.085307</td>\n",
       "      <td>0.048659</td>\n",
       "      <td>...</td>\n",
       "      <td>0.0</td>\n",
       "      <td>0.037095</td>\n",
       "      <td>0.000000</td>\n",
       "      <td>0.000000</td>\n",
       "      <td>0.000000</td>\n",
       "      <td>0.000000</td>\n",
       "      <td>0.000000</td>\n",
       "      <td>0.000000</td>\n",
       "      <td>0.00000</td>\n",
       "      <td>0.000000</td>\n",
       "    </tr>\n",
       "    <tr>\n",
       "      <th>2</th>\n",
       "      <td>0.0</td>\n",
       "      <td>0.012118</td>\n",
       "      <td>0.00000</td>\n",
       "      <td>0.000000</td>\n",
       "      <td>0.0</td>\n",
       "      <td>0.000000</td>\n",
       "      <td>0.015232</td>\n",
       "      <td>0.000000</td>\n",
       "      <td>0.000000</td>\n",
       "      <td>0.000000</td>\n",
       "      <td>...</td>\n",
       "      <td>0.0</td>\n",
       "      <td>0.000000</td>\n",
       "      <td>0.361815</td>\n",
       "      <td>0.537923</td>\n",
       "      <td>0.000000</td>\n",
       "      <td>0.038615</td>\n",
       "      <td>0.000000</td>\n",
       "      <td>0.000000</td>\n",
       "      <td>0.00000</td>\n",
       "      <td>0.072679</td>\n",
       "    </tr>\n",
       "    <tr>\n",
       "      <th>3</th>\n",
       "      <td>0.0</td>\n",
       "      <td>0.000000</td>\n",
       "      <td>0.00000</td>\n",
       "      <td>0.000000</td>\n",
       "      <td>0.0</td>\n",
       "      <td>0.000000</td>\n",
       "      <td>0.000000</td>\n",
       "      <td>0.000000</td>\n",
       "      <td>0.000000</td>\n",
       "      <td>0.000000</td>\n",
       "      <td>...</td>\n",
       "      <td>0.0</td>\n",
       "      <td>0.000000</td>\n",
       "      <td>0.013281</td>\n",
       "      <td>0.014104</td>\n",
       "      <td>0.000000</td>\n",
       "      <td>0.000000</td>\n",
       "      <td>0.013736</td>\n",
       "      <td>0.014506</td>\n",
       "      <td>0.00000</td>\n",
       "      <td>0.000000</td>\n",
       "    </tr>\n",
       "    <tr>\n",
       "      <th>4</th>\n",
       "      <td>0.0</td>\n",
       "      <td>0.000000</td>\n",
       "      <td>0.00000</td>\n",
       "      <td>0.000000</td>\n",
       "      <td>0.0</td>\n",
       "      <td>0.000000</td>\n",
       "      <td>0.000000</td>\n",
       "      <td>0.000000</td>\n",
       "      <td>0.000000</td>\n",
       "      <td>0.000000</td>\n",
       "      <td>...</td>\n",
       "      <td>0.0</td>\n",
       "      <td>0.000000</td>\n",
       "      <td>0.000000</td>\n",
       "      <td>0.000000</td>\n",
       "      <td>0.000000</td>\n",
       "      <td>0.000000</td>\n",
       "      <td>0.000000</td>\n",
       "      <td>0.000000</td>\n",
       "      <td>0.00000</td>\n",
       "      <td>0.000000</td>\n",
       "    </tr>\n",
       "    <tr>\n",
       "      <th>...</th>\n",
       "      <td>...</td>\n",
       "      <td>...</td>\n",
       "      <td>...</td>\n",
       "      <td>...</td>\n",
       "      <td>...</td>\n",
       "      <td>...</td>\n",
       "      <td>...</td>\n",
       "      <td>...</td>\n",
       "      <td>...</td>\n",
       "      <td>...</td>\n",
       "      <td>...</td>\n",
       "      <td>...</td>\n",
       "      <td>...</td>\n",
       "      <td>...</td>\n",
       "      <td>...</td>\n",
       "      <td>...</td>\n",
       "      <td>...</td>\n",
       "      <td>...</td>\n",
       "      <td>...</td>\n",
       "      <td>...</td>\n",
       "      <td>...</td>\n",
       "    </tr>\n",
       "    <tr>\n",
       "      <th>1084</th>\n",
       "      <td>0.0</td>\n",
       "      <td>0.000000</td>\n",
       "      <td>0.00000</td>\n",
       "      <td>0.000000</td>\n",
       "      <td>0.0</td>\n",
       "      <td>0.000000</td>\n",
       "      <td>0.000000</td>\n",
       "      <td>0.075328</td>\n",
       "      <td>0.000000</td>\n",
       "      <td>0.000000</td>\n",
       "      <td>...</td>\n",
       "      <td>0.0</td>\n",
       "      <td>0.000000</td>\n",
       "      <td>0.000000</td>\n",
       "      <td>0.000000</td>\n",
       "      <td>0.213753</td>\n",
       "      <td>0.000000</td>\n",
       "      <td>0.000000</td>\n",
       "      <td>0.000000</td>\n",
       "      <td>0.00000</td>\n",
       "      <td>0.000000</td>\n",
       "    </tr>\n",
       "    <tr>\n",
       "      <th>1085</th>\n",
       "      <td>0.0</td>\n",
       "      <td>0.030181</td>\n",
       "      <td>0.00000</td>\n",
       "      <td>0.000000</td>\n",
       "      <td>0.0</td>\n",
       "      <td>0.000000</td>\n",
       "      <td>0.000000</td>\n",
       "      <td>0.000000</td>\n",
       "      <td>0.130450</td>\n",
       "      <td>0.049607</td>\n",
       "      <td>...</td>\n",
       "      <td>0.0</td>\n",
       "      <td>0.000000</td>\n",
       "      <td>0.090112</td>\n",
       "      <td>0.000000</td>\n",
       "      <td>0.000000</td>\n",
       "      <td>0.000000</td>\n",
       "      <td>0.000000</td>\n",
       "      <td>0.000000</td>\n",
       "      <td>0.04671</td>\n",
       "      <td>0.000000</td>\n",
       "    </tr>\n",
       "    <tr>\n",
       "      <th>1086</th>\n",
       "      <td>0.0</td>\n",
       "      <td>0.000000</td>\n",
       "      <td>0.00000</td>\n",
       "      <td>0.000000</td>\n",
       "      <td>0.0</td>\n",
       "      <td>0.000000</td>\n",
       "      <td>0.000000</td>\n",
       "      <td>0.000000</td>\n",
       "      <td>0.200226</td>\n",
       "      <td>0.228421</td>\n",
       "      <td>...</td>\n",
       "      <td>0.0</td>\n",
       "      <td>0.000000</td>\n",
       "      <td>0.000000</td>\n",
       "      <td>0.000000</td>\n",
       "      <td>0.000000</td>\n",
       "      <td>0.000000</td>\n",
       "      <td>0.000000</td>\n",
       "      <td>0.000000</td>\n",
       "      <td>0.00000</td>\n",
       "      <td>0.000000</td>\n",
       "    </tr>\n",
       "    <tr>\n",
       "      <th>1087</th>\n",
       "      <td>0.0</td>\n",
       "      <td>0.018776</td>\n",
       "      <td>0.00000</td>\n",
       "      <td>0.025097</td>\n",
       "      <td>0.0</td>\n",
       "      <td>0.031551</td>\n",
       "      <td>0.023601</td>\n",
       "      <td>0.029694</td>\n",
       "      <td>0.000000</td>\n",
       "      <td>0.000000</td>\n",
       "      <td>...</td>\n",
       "      <td>0.0</td>\n",
       "      <td>0.000000</td>\n",
       "      <td>0.000000</td>\n",
       "      <td>0.000000</td>\n",
       "      <td>0.000000</td>\n",
       "      <td>0.000000</td>\n",
       "      <td>0.000000</td>\n",
       "      <td>0.000000</td>\n",
       "      <td>0.00000</td>\n",
       "      <td>0.000000</td>\n",
       "    </tr>\n",
       "    <tr>\n",
       "      <th>1088</th>\n",
       "      <td>0.0</td>\n",
       "      <td>0.000000</td>\n",
       "      <td>0.00000</td>\n",
       "      <td>0.000000</td>\n",
       "      <td>0.0</td>\n",
       "      <td>0.000000</td>\n",
       "      <td>0.000000</td>\n",
       "      <td>0.000000</td>\n",
       "      <td>0.000000</td>\n",
       "      <td>0.000000</td>\n",
       "      <td>...</td>\n",
       "      <td>0.0</td>\n",
       "      <td>0.000000</td>\n",
       "      <td>0.000000</td>\n",
       "      <td>0.000000</td>\n",
       "      <td>0.000000</td>\n",
       "      <td>0.000000</td>\n",
       "      <td>0.000000</td>\n",
       "      <td>0.000000</td>\n",
       "      <td>0.00000</td>\n",
       "      <td>0.000000</td>\n",
       "    </tr>\n",
       "  </tbody>\n",
       "</table>\n",
       "<p>1089 rows × 294 columns</p>\n",
       "</div>"
      ],
      "text/plain": [
       "       10    access  account   actions  add    adding  additional   address  \\\n",
       "0     0.0  0.290029  0.23287  0.000000  0.0  0.000000    0.000000  0.000000   \n",
       "1     0.0  0.000000  0.00000  0.000000  0.0  0.000000    0.000000  0.000000   \n",
       "2     0.0  0.012118  0.00000  0.000000  0.0  0.000000    0.015232  0.000000   \n",
       "3     0.0  0.000000  0.00000  0.000000  0.0  0.000000    0.000000  0.000000   \n",
       "4     0.0  0.000000  0.00000  0.000000  0.0  0.000000    0.000000  0.000000   \n",
       "...   ...       ...      ...       ...  ...       ...         ...       ...   \n",
       "1084  0.0  0.000000  0.00000  0.000000  0.0  0.000000    0.000000  0.075328   \n",
       "1085  0.0  0.030181  0.00000  0.000000  0.0  0.000000    0.000000  0.000000   \n",
       "1086  0.0  0.000000  0.00000  0.000000  0.0  0.000000    0.000000  0.000000   \n",
       "1087  0.0  0.018776  0.00000  0.025097  0.0  0.031551    0.023601  0.029694   \n",
       "1088  0.0  0.000000  0.00000  0.000000  0.0  0.000000    0.000000  0.000000   \n",
       "\n",
       "      algorithm  algorithms  ...  versions      view    volume   volumes  \\\n",
       "0      0.000000    0.000000  ...       0.0  0.000000  0.000000  0.000000   \n",
       "1      0.085307    0.048659  ...       0.0  0.037095  0.000000  0.000000   \n",
       "2      0.000000    0.000000  ...       0.0  0.000000  0.361815  0.537923   \n",
       "3      0.000000    0.000000  ...       0.0  0.000000  0.013281  0.014104   \n",
       "4      0.000000    0.000000  ...       0.0  0.000000  0.000000  0.000000   \n",
       "...         ...         ...  ...       ...       ...       ...       ...   \n",
       "1084   0.000000    0.000000  ...       0.0  0.000000  0.000000  0.000000   \n",
       "1085   0.130450    0.049607  ...       0.0  0.000000  0.090112  0.000000   \n",
       "1086   0.200226    0.228421  ...       0.0  0.000000  0.000000  0.000000   \n",
       "1087   0.000000    0.000000  ...       0.0  0.000000  0.000000  0.000000   \n",
       "1088   0.000000    0.000000  ...       0.0  0.000000  0.000000  0.000000   \n",
       "\n",
       "          want       way       web   windows     work     write  \n",
       "0     0.043385  0.000000  0.000000  0.000000  0.00000  0.000000  \n",
       "1     0.000000  0.000000  0.000000  0.000000  0.00000  0.000000  \n",
       "2     0.000000  0.038615  0.000000  0.000000  0.00000  0.072679  \n",
       "3     0.000000  0.000000  0.013736  0.014506  0.00000  0.000000  \n",
       "4     0.000000  0.000000  0.000000  0.000000  0.00000  0.000000  \n",
       "...        ...       ...       ...       ...      ...       ...  \n",
       "1084  0.213753  0.000000  0.000000  0.000000  0.00000  0.000000  \n",
       "1085  0.000000  0.000000  0.000000  0.000000  0.04671  0.000000  \n",
       "1086  0.000000  0.000000  0.000000  0.000000  0.00000  0.000000  \n",
       "1087  0.000000  0.000000  0.000000  0.000000  0.00000  0.000000  \n",
       "1088  0.000000  0.000000  0.000000  0.000000  0.00000  0.000000  \n",
       "\n",
       "[1089 rows x 294 columns]"
      ]
     },
     "execution_count": 9,
     "metadata": {},
     "output_type": "execute_result"
    }
   ],
   "source": [
    "df = pd.DataFrame.sparse.from_spmatrix(X_train) \n",
    "df.columns = tfidf_vectorizer.get_feature_names_out()\n",
    "df"
   ]
  },
  {
   "cell_type": "code",
   "execution_count": 10,
   "id": "6541e726",
   "metadata": {},
   "outputs": [],
   "source": [
    "topics = 3 # how many topics do we want?\n",
    "model = LatentDirichletAllocation(n_components = topics)"
   ]
  },
  {
   "cell_type": "code",
   "execution_count": 11,
   "id": "5c99b14c",
   "metadata": {},
   "outputs": [
    {
     "data": {
      "text/html": [
       "<style>#sk-container-id-1 {color: black;}#sk-container-id-1 pre{padding: 0;}#sk-container-id-1 div.sk-toggleable {background-color: white;}#sk-container-id-1 label.sk-toggleable__label {cursor: pointer;display: block;width: 100%;margin-bottom: 0;padding: 0.3em;box-sizing: border-box;text-align: center;}#sk-container-id-1 label.sk-toggleable__label-arrow:before {content: \"▸\";float: left;margin-right: 0.25em;color: #696969;}#sk-container-id-1 label.sk-toggleable__label-arrow:hover:before {color: black;}#sk-container-id-1 div.sk-estimator:hover label.sk-toggleable__label-arrow:before {color: black;}#sk-container-id-1 div.sk-toggleable__content {max-height: 0;max-width: 0;overflow: hidden;text-align: left;background-color: #f0f8ff;}#sk-container-id-1 div.sk-toggleable__content pre {margin: 0.2em;color: black;border-radius: 0.25em;background-color: #f0f8ff;}#sk-container-id-1 input.sk-toggleable__control:checked~div.sk-toggleable__content {max-height: 200px;max-width: 100%;overflow: auto;}#sk-container-id-1 input.sk-toggleable__control:checked~label.sk-toggleable__label-arrow:before {content: \"▾\";}#sk-container-id-1 div.sk-estimator input.sk-toggleable__control:checked~label.sk-toggleable__label {background-color: #d4ebff;}#sk-container-id-1 div.sk-label input.sk-toggleable__control:checked~label.sk-toggleable__label {background-color: #d4ebff;}#sk-container-id-1 input.sk-hidden--visually {border: 0;clip: rect(1px 1px 1px 1px);clip: rect(1px, 1px, 1px, 1px);height: 1px;margin: -1px;overflow: hidden;padding: 0;position: absolute;width: 1px;}#sk-container-id-1 div.sk-estimator {font-family: monospace;background-color: #f0f8ff;border: 1px dotted black;border-radius: 0.25em;box-sizing: border-box;margin-bottom: 0.5em;}#sk-container-id-1 div.sk-estimator:hover {background-color: #d4ebff;}#sk-container-id-1 div.sk-parallel-item::after {content: \"\";width: 100%;border-bottom: 1px solid gray;flex-grow: 1;}#sk-container-id-1 div.sk-label:hover label.sk-toggleable__label {background-color: #d4ebff;}#sk-container-id-1 div.sk-serial::before {content: \"\";position: absolute;border-left: 1px solid gray;box-sizing: border-box;top: 0;bottom: 0;left: 50%;z-index: 0;}#sk-container-id-1 div.sk-serial {display: flex;flex-direction: column;align-items: center;background-color: white;padding-right: 0.2em;padding-left: 0.2em;position: relative;}#sk-container-id-1 div.sk-item {position: relative;z-index: 1;}#sk-container-id-1 div.sk-parallel {display: flex;align-items: stretch;justify-content: center;background-color: white;position: relative;}#sk-container-id-1 div.sk-item::before, #sk-container-id-1 div.sk-parallel-item::before {content: \"\";position: absolute;border-left: 1px solid gray;box-sizing: border-box;top: 0;bottom: 0;left: 50%;z-index: -1;}#sk-container-id-1 div.sk-parallel-item {display: flex;flex-direction: column;z-index: 1;position: relative;background-color: white;}#sk-container-id-1 div.sk-parallel-item:first-child::after {align-self: flex-end;width: 50%;}#sk-container-id-1 div.sk-parallel-item:last-child::after {align-self: flex-start;width: 50%;}#sk-container-id-1 div.sk-parallel-item:only-child::after {width: 0;}#sk-container-id-1 div.sk-dashed-wrapped {border: 1px dashed gray;margin: 0 0.4em 0.5em 0.4em;box-sizing: border-box;padding-bottom: 0.4em;background-color: white;}#sk-container-id-1 div.sk-label label {font-family: monospace;font-weight: bold;display: inline-block;line-height: 1.2em;}#sk-container-id-1 div.sk-label-container {text-align: center;}#sk-container-id-1 div.sk-container {/* jupyter's `normalize.less` sets `[hidden] { display: none; }` but bootstrap.min.css set `[hidden] { display: none !important; }` so we also need the `!important` here to be able to override the default hidden behavior on the sphinx rendered scikit-learn.org. See: https://github.com/scikit-learn/scikit-learn/issues/21755 */display: inline-block !important;position: relative;}#sk-container-id-1 div.sk-text-repr-fallback {display: none;}</style><div id=\"sk-container-id-1\" class=\"sk-top-container\"><div class=\"sk-text-repr-fallback\"><pre>LatentDirichletAllocation(n_components=3)</pre><b>In a Jupyter environment, please rerun this cell to show the HTML representation or trust the notebook. <br />On GitHub, the HTML representation is unable to render, please try loading this page with nbviewer.org.</b></div><div class=\"sk-container\" hidden><div class=\"sk-item\"><div class=\"sk-estimator sk-toggleable\"><input class=\"sk-toggleable__control sk-hidden--visually\" id=\"sk-estimator-id-1\" type=\"checkbox\" checked><label for=\"sk-estimator-id-1\" class=\"sk-toggleable__label sk-toggleable__label-arrow\">LatentDirichletAllocation</label><div class=\"sk-toggleable__content\"><pre>LatentDirichletAllocation(n_components=3)</pre></div></div></div></div></div>"
      ],
      "text/plain": [
       "LatentDirichletAllocation(n_components=3)"
      ]
     },
     "execution_count": 11,
     "metadata": {},
     "output_type": "execute_result"
    }
   ],
   "source": [
    "model.fit(X_train) # unsupervised model"
   ]
  },
  {
   "cell_type": "code",
   "execution_count": 12,
   "id": "ccf41a30",
   "metadata": {},
   "outputs": [
    {
     "name": "stdout",
     "output_type": "stream",
     "text": [
      "Topic #0: bucket s3 object choose amazon access aws objects console storage\n",
      "Topic #1: sagemaker model training job amazon algorithm notebook data following metrics\n",
      "Topic #2: instance instances ec2 amazon volume ami launch linux command aws\n"
     ]
    }
   ],
   "source": [
    "tf_feature_names = tfidf_vectorizer.get_feature_names_out()\n",
    "\n",
    "def print_top_words(model, feature_names, n_top_words):\n",
    "    for topic_idx, topic in enumerate(model.components_):\n",
    "        message = \"Topic #%d: \" % topic_idx\n",
    "        message += \" \".join([feature_names[i]\n",
    "                             \n",
    "        for i in topic.argsort()[:-n_top_words - 1:-1]])\n",
    "        \n",
    "        print(message)\n",
    "    return \n",
    "    \n",
    "print_top_words(model, tf_feature_names, 10)"
   ]
  },
  {
   "cell_type": "code",
   "execution_count": 14,
   "id": "876da8fb",
   "metadata": {},
   "outputs": [
    {
     "name": "stdout",
     "output_type": "stream",
     "text": [
      "[[0.48117706 0.05862501 0.46019793]]\n"
     ]
    }
   ],
   "source": [
    "test_sample = 1 \n",
    "p = model.transform(X_test[test_sample]) # lists the probabilities of three topics of the document\n",
    "print(p)"
   ]
  },
  {
   "cell_type": "code",
   "execution_count": 15,
   "id": "ef7df0f7",
   "metadata": {},
   "outputs": [
    {
     "name": "stdout",
     "output_type": "stream",
     "text": [
      "Topic #0\n"
     ]
    }
   ],
   "source": [
    "t = p.argmax() \n",
    "print(\"Topic #{}\".format(t)) # returns the topic of the sample"
   ]
  },
  {
   "cell_type": "code",
   "execution_count": 16,
   "id": "16b5b1a8",
   "metadata": {},
   "outputs": [
    {
     "name": "stdout",
     "output_type": "stream",
     "text": [
      "amazon s3 is a repository for internet data. amazon s3 provides access to reliable, fast, and inexpensive data storage infrastructure. it is designed to make web-scale computing easier by enabling you to store and retrieve any amount of data, at any time, from within amazon ec2 or anywhere on the web. amazon s3 stores data objects redundantly on multiple devices across multiple facilities and allows concurrent read or write access to these data objects by many separate clients or application threads. you can use the redundant data stored in amazon s3 to recover quickly and reliably from instance or application failures.  amazon ec2 uses amazon s3 for storing amazon machine images (amis). you use amis for launching ec2 instances. in case of instance failure, you can use the stored ami to immediately launch another instance, thereby allowing for fast recovery and business continuity. amazon ec2 also uses amazon s3 to store snapshots (backup copies) of the data volumes. you can use snapshots for recovering data quickly and reliably in case of application or system failures. you can also use snapshots as a baseline to create multiple new data volumes, expand the size of an existing data volume, or move data volumes across multiple availability zones, thereby making your data usage highly scalable. for more information about using data volumes and snapshots, see . objects are the fundamental entities stored in amazon s3. every object stored in amazon s3 is contained in a bucket. buckets organize the amazon s3 namespace at the highest level and identify the account responsible for that storage. amazon s3 buckets are similar to internet domain names. objects stored in the buckets have a unique key value and are retrieved using a url. for example, if an object with a key value  is stored in the  bucket, then it is addressable using the url .  for more information about the features of amazon s3, see the . given the benefits of amazon s3 for storage, you may decide to use this service to store files and data sets for use with ec2 instances. there are several ways to move data to and from amazon s3 to your instances. in addition to the examples discussed below, there are a variety of tools that people have written that you can use to access your data in amazon s3 from your computer or your instance. some of the common ones are discussed in the aws forums. if you have permission, you can copy a file to or from amazon s3 and your instance using one of the following methods. get or wgetthe wget utility is an http and ftp client that allows you to download public objects from amazon s3. it is installed by default in amazon linux and most other distributions, and available for download on windows. to download an amazon s3 object, use the following command, substituting the url of the object to download. this method requires that the object you request is public; if the object is not public, you receive an \"error 403: forbidden\" message. if you receive this error, open the amazon s3 console and change the permissions of the object to public. for more information, see the . aws command line interfacethe aws command line interface (aws cli) is a unified tool to manage your aws services. the aws cli enables users to authenticate themselves and download restricted items from amazon s3 and also to upload items. for more information, such as how to install and configure the tools, see the . the aws s3 cp command is similar to the unix cp command. you can copy files from amazon s3 to your instance, copy files from your instance to amazon s3, and copy files from one amazon s3 location to another. use the following command to copy an object from amazon s3 to your instance. use the following command to copy an object from your instance back into amazon s3. the aws s3 sync command can synchronize an entire amazon s3 bucket to a local directory location. this can be helpful for downloading a data set and keeping the local copy up-to-date with the remote set. if you have the proper permissions on the amazon s3 bucket, you can push your local directory back up to the cloud when you are finished by reversing the source and destination locations in the command. use the following command to download an entire amazon s3 bucket to a local directory on your instance. amazon s3 apiif you are a developer, you can use an api to access data in amazon s3. for more information, see the . you can use this api and its examples to help develop your application and integrate it with other apis and sdks, such as the boto python interface. \n",
      "\n"
     ]
    }
   ],
   "source": [
    "print(X_test_document[test_sample])"
   ]
  },
  {
   "cell_type": "code",
   "execution_count": null,
   "id": "5444d81f",
   "metadata": {},
   "outputs": [],
   "source": []
  }
 ],
 "metadata": {
  "kernelspec": {
   "display_name": "Python 3 (ipykernel)",
   "language": "python",
   "name": "python3"
  },
  "language_info": {
   "codemirror_mode": {
    "name": "ipython",
    "version": 3
   },
   "file_extension": ".py",
   "mimetype": "text/x-python",
   "name": "python",
   "nbconvert_exporter": "python",
   "pygments_lexer": "ipython3",
   "version": "3.8.3"
  }
 },
 "nbformat": 4,
 "nbformat_minor": 5
}
